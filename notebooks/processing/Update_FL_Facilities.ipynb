{
 "cells": [
  {
   "cell_type": "code",
   "execution_count": null,
   "metadata": {},
   "outputs": [],
   "source": [
    "%load_ext autoreload\n",
    "%autoreload 2"
   ]
  },
  {
   "cell_type": "code",
   "execution_count": null,
   "metadata": {},
   "outputs": [],
   "source": [
    "import os\n",
    "import json\n",
    "from os.path import join, isdir\n",
    "from pathlib import Path\n",
    "import datetime\n",
    "import pytz\n",
    "\n",
    "import pandas as pd\n",
    "import geopandas as gpd\n",
    "import numpy as np\n",
    "\n",
    "from covidcaremap.data import (processed_data_path, \n",
    "                               external_data_path,\n",
    "                               published_data_path,\n",
    "                               local_data_path)"
   ]
  },
  {
   "cell_type": "code",
   "execution_count": null,
   "metadata": {},
   "outputs": [],
   "source": [
    "ccm_csv_df = pd.read_csv(\n",
    "    published_data_path('us_healthcare_capacity-facility-CovidCareMap.csv'), \n",
    "    dtype={'HCRIS-Provider Number': object, \n",
    "           'DH-OBJECTID': object,\n",
    "           'CCM_ID': object\n",
    "          }\n",
    ")"
   ]
  },
  {
   "cell_type": "code",
   "execution_count": null,
   "metadata": {
    "scrolled": true
   },
   "outputs": [],
   "source": [
    "ccm_csv_df.head()"
   ]
  },
  {
   "cell_type": "code",
   "execution_count": null,
   "metadata": {},
   "outputs": [],
   "source": [
    "now_utc = datetime.datetime.now()\n",
    "now_est = now_utc.astimezone(pytz.timezone(\"US/Eastern\"))\n",
    "\n",
    "current_time = now_est.strftime(\"%Y-%m-%d-%H%M%S\")\n",
    "current_date = now_est.strftime(\"%Y-%m-%d\")\n",
    "print(current_date, current_time)"
   ]
  },
  {
   "cell_type": "code",
   "execution_count": null,
   "metadata": {},
   "outputs": [],
   "source": [
    "!curl https://bi.ahca.myflorida.com/t/ABICC/views/Public/ICUBedsHospital.csv > {processed_data_path('florida/raw/')}/ICUBedsHospital_{current_date}.csv \n",
    "!curl https://bi.ahca.myflorida.com/t/ABICC/views/Public/HospitalBedsHospital.csv > {processed_data_path('florida/raw/')}/HospitalBedsHospital_{current_date}.csv \n",
    "!curl https://bi.ahca.myflorida.com/t/ABICC/views/Public/COVIDHospitalizationsCounty.csv > {processed_data_path('florida/raw/')}/COVIDHospitalizationsCounty_{current_date}.csv "
   ]
  },
  {
   "cell_type": "code",
   "execution_count": null,
   "metadata": {},
   "outputs": [],
   "source": [
    "fl_icu_raw = pd.read_csv(processed_data_path(f'florida/raw/ICUBedsHospital_{current_date}.csv'), encoding='utf-8', sep=',')\n",
    "fl_hosp_raw = pd.read_csv(processed_data_path(f'florida/raw/HospitalBedsHospital_{current_date}.csv'), encoding='utf-8', sep=',')"
   ]
  },
  {
   "cell_type": "code",
   "execution_count": null,
   "metadata": {},
   "outputs": [],
   "source": [
    "fl_icu_raw.head()"
   ]
  },
  {
   "cell_type": "code",
   "execution_count": null,
   "metadata": {},
   "outputs": [],
   "source": [
    "fl_icu_raw = pd.pivot_table(fl_icu_raw, \n",
    "                        values='Measure Values',\n",
    "                        index=['County','FileNumber','ProviderName'], \n",
    "                        columns=['Measure Names'], aggfunc=np.sum).sort_values(['County','FileNumber']).reset_index()\n",
    "\n",
    "fl_hosp_raw = pd.pivot_table(fl_hosp_raw, \n",
    "                        values='Measure Values',\n",
    "                        index=['County','FileNumber','ProviderName'], \n",
    "                        columns=['Measure Names'], aggfunc=np.sum).sort_values(['County','FileNumber']).reset_index()"
   ]
  },
  {
   "cell_type": "code",
   "execution_count": null,
   "metadata": {},
   "outputs": [],
   "source": [
    "icu_all_idx = fl_icu_raw[fl_icu_raw['County']=='All'].index\n",
    "fl_icu_raw = pd.concat([fl_icu_raw.iloc[icu_all_idx],fl_icu_raw.drop(icu_all_idx, axis=0)], axis=0).reset_index(drop=True)\n",
    "\n",
    "hosp_all_idx = fl_hosp_raw[fl_hosp_raw['County']=='All'].index\n",
    "fl_hosp_raw = pd.concat([fl_hosp_raw.iloc[hosp_all_idx],fl_hosp_raw.drop(hosp_all_idx, axis=0)], axis=0).reset_index(drop=True)"
   ]
  },
  {
   "cell_type": "code",
   "execution_count": null,
   "metadata": {},
   "outputs": [],
   "source": [
    "fl_icu_raw.head()"
   ]
  },
  {
   "cell_type": "code",
   "execution_count": null,
   "metadata": {},
   "outputs": [],
   "source": [
    "fl_icu_raw.to_csv(processed_data_path(f'florida/ICU_BedsHospital1_crosstab_{current_date}.csv'), index=False)\n",
    "fl_hosp_raw.to_csv(processed_data_path(f'florida/Hospital_BedsHospital1_crosstab_{current_date}.csv'), index=False)"
   ]
  },
  {
   "cell_type": "code",
   "execution_count": null,
   "metadata": {},
   "outputs": [],
   "source": [
    "update_date = sorted([f.stem for f in Path(processed_data_path('florida/')).iterdir() if 'csv' in f.suffix], reverse=True)[0].split('_')[-1]\n",
    "update_date"
   ]
  },
  {
   "cell_type": "code",
   "execution_count": null,
   "metadata": {},
   "outputs": [],
   "source": [
    "fl_hosp = pd.read_csv(processed_data_path(f'florida/Hospital_BedsHospital1_crosstab_{update_date}.csv'), encoding='utf-8', sep=',')\n",
    "fl_icu = pd.read_csv(processed_data_path(f'florida/ICU_BedsHospital1_crosstab_{update_date}.csv'), encoding='utf-8', sep=',')"
   ]
  },
  {
   "cell_type": "code",
   "execution_count": null,
   "metadata": {},
   "outputs": [],
   "source": [
    "fl_icu.shape, fl_hosp.shape"
   ]
  },
  {
   "cell_type": "code",
   "execution_count": null,
   "metadata": {},
   "outputs": [],
   "source": [
    "fl_icu.head()"
   ]
  },
  {
   "cell_type": "code",
   "execution_count": null,
   "metadata": {},
   "outputs": [],
   "source": [
    "fl_hosp.drop(0,inplace=True), fl_icu.drop(0,inplace=True)"
   ]
  },
  {
   "cell_type": "code",
   "execution_count": null,
   "metadata": {},
   "outputs": [],
   "source": [
    "fl_hosp['Total Staffed Bed Capacity'] = fl_hosp['Total Staffed Bed Capacity'].apply(lambda x: int(x.replace(',','')))\n",
    "fl_icu['Total AdultICU Capacity'] = fl_icu['Total AdultICU Capacity'].apply(lambda x: int(x.replace(',','')))\n",
    "fl_hosp['Bed Census'] = fl_hosp['Bed Census'].apply(lambda x: int(x.replace(',','')))\n",
    "fl_icu['Adult ICU Census'] = fl_icu['Adult ICU Census'].apply(lambda x: int(x.replace(',','')))"
   ]
  },
  {
   "cell_type": "code",
   "execution_count": null,
   "metadata": {},
   "outputs": [],
   "source": [
    "fl_hosp.head()"
   ]
  },
  {
   "cell_type": "code",
   "execution_count": null,
   "metadata": {
    "scrolled": false
   },
   "outputs": [],
   "source": [
    "fl_icu.head()"
   ]
  },
  {
   "cell_type": "code",
   "execution_count": null,
   "metadata": {},
   "outputs": [],
   "source": [
    "facility_match_df = pd.read_csv(processed_data_path('fl_facilitymatching_2020-08-14.csv'))"
   ]
  },
  {
   "cell_type": "code",
   "execution_count": null,
   "metadata": {},
   "outputs": [],
   "source": [
    "facility_match_df.tail()"
   ]
  },
  {
   "cell_type": "code",
   "execution_count": null,
   "metadata": {},
   "outputs": [],
   "source": [
    "facility_matched_dict = {k:v for k,v in facility_match_df[['ProviderName','Matched CCM_ID']].values}"
   ]
  },
  {
   "cell_type": "code",
   "execution_count": null,
   "metadata": {},
   "outputs": [],
   "source": [
    "facility_matched_dict"
   ]
  },
  {
   "cell_type": "code",
   "execution_count": null,
   "metadata": {},
   "outputs": [],
   "source": [
    "manual_override_data = pd.read_csv(\n",
    "    external_data_path('covidcaremap-ushcsc-facility-manual-override.csv'),\n",
    "    dtype={'HCRIS-Provider Number': object, \n",
    "           'DH-OBJECTID': object,\n",
    "           'CCM_ID': object}\n",
    ")"
   ]
  },
  {
   "cell_type": "code",
   "execution_count": null,
   "metadata": {},
   "outputs": [],
   "source": [
    "manual_override_cols = list(manual_override_data.columns)\n",
    "manual_override_cols"
   ]
  },
  {
   "cell_type": "code",
   "execution_count": null,
   "metadata": {},
   "outputs": [],
   "source": [
    "ccm_csv_df.columns"
   ]
  },
  {
   "cell_type": "code",
   "execution_count": null,
   "metadata": {},
   "outputs": [],
   "source": [
    "manual_override_cols"
   ]
  },
  {
   "cell_type": "code",
   "execution_count": null,
   "metadata": {},
   "outputs": [],
   "source": [
    "col_replace = {\n",
    "    'DH-OBJECTID': 'DH-ID',\n",
    "    'HCRIS-Provider Number': 'HCRIS-ID',\n",
    "    'HIFLD-ID': 'HIFLD-ID'\n",
    "}\n",
    "\n",
    "manual_override_cols = [col_replace.get(n, n) for n in manual_override_cols]"
   ]
  },
  {
   "cell_type": "code",
   "execution_count": null,
   "metadata": {},
   "outputs": [],
   "source": [
    "manual_override_cols"
   ]
  },
  {
   "cell_type": "code",
   "execution_count": null,
   "metadata": {},
   "outputs": [],
   "source": [
    "override_dict = {\n",
    "    'Staffed All Beds - SOURCE': f\"FL AHCA {update_date}\",\n",
    "    'Staffed ICU Beds - SOURCE': f\"FL AHCA {update_date}\",\n",
    "    'All Bed Occupancy Rate - SOURCE': f\"FL AHCA {update_date}\",\n",
    "    'ICU Bed Occupancy Rate - SOURCE': f\"FL AHCA {update_date}\",\n",
    "    \"Manual Override Reason\": f\"More recent data from {update_date}\",\n",
    "    \"Manual Override New Data Source\": \"FL AHCA\"\n",
    "}\n",
    "list(override_dict.keys())"
   ]
  },
  {
   "cell_type": "code",
   "execution_count": null,
   "metadata": {},
   "outputs": [],
   "source": [
    "fl_hosp['ProviderName']"
   ]
  },
  {
   "cell_type": "code",
   "execution_count": null,
   "metadata": {},
   "outputs": [],
   "source": [
    "manual_override_cols"
   ]
  },
  {
   "cell_type": "code",
   "execution_count": null,
   "metadata": {},
   "outputs": [],
   "source": [
    "facility_matched_dict"
   ]
  },
  {
   "cell_type": "code",
   "execution_count": null,
   "metadata": {},
   "outputs": [],
   "source": [
    "facility_matched_dict"
   ]
  },
  {
   "cell_type": "code",
   "execution_count": null,
   "metadata": {},
   "outputs": [],
   "source": [
    "fl_icu.dtypes"
   ]
  },
  {
   "cell_type": "code",
   "execution_count": null,
   "metadata": {},
   "outputs": [],
   "source": [
    "manual_override_data.head()"
   ]
  },
  {
   "cell_type": "code",
   "execution_count": null,
   "metadata": {},
   "outputs": [],
   "source": [
    "ccm_fl = ccm_csv_df[ccm_csv_df['State'] == 'FL']"
   ]
  },
  {
   "cell_type": "code",
   "execution_count": null,
   "metadata": {},
   "outputs": [],
   "source": [
    "ccm_fl.head()"
   ]
  },
  {
   "cell_type": "code",
   "execution_count": null,
   "metadata": {},
   "outputs": [],
   "source": [
    "ccm_fl['Manual Override Reason'] = 'More recent source'\n",
    "ccm_fl['Manual Override New Data Source'] = 'FL AHCA'\n",
    "ccm_fl.loc[:,'Staffed All Beds'] = np.nan\n",
    "ccm_fl.loc[:,'Staffed ICU Beds'] = np.nan\n",
    "ccm_fl.loc[:,'All Bed Occupancy Rate'] = np.nan\n",
    "ccm_fl.loc[:,'ICU Bed Occupancy Rate'] = np.nan"
   ]
  },
  {
   "cell_type": "code",
   "execution_count": null,
   "metadata": {},
   "outputs": [],
   "source": [
    "ccm_fl.T"
   ]
  },
  {
   "cell_type": "code",
   "execution_count": null,
   "metadata": {},
   "outputs": [],
   "source": [
    "fl_hosp[fl_hosp['ProviderName'] == 'UF HEALTH LEESBURG HOSPITAL']"
   ]
  },
  {
   "cell_type": "code",
   "execution_count": null,
   "metadata": {},
   "outputs": [],
   "source": [
    "l = []\n",
    "not_added = []\n",
    "for p in fl_hosp['ProviderName']:\n",
    "    \n",
    "    try: ccm_id = str(facility_matched_dict[p])\n",
    "    except Exception as exc: \n",
    "        print('not found: ',exc)\n",
    "        ccm_id = ''\n",
    "    found_ccm_record = ccm_csv_df[ccm_csv_df['CCM_ID'] == ccm_id]\n",
    "    #if ccm_id == 'FL-CCM-0001': print(p, found_ccm_record)\n",
    "    \n",
    "    # ignore adding new facilities for now, only update existing matched facilities\n",
    "    if len(ccm_csv_df[ccm_csv_df['CCM_ID'] == ccm_id]) > 0:\n",
    "        \n",
    "        total_staffed_beds = fl_hosp[fl_hosp['ProviderName'] == p]['Total Staffed Bed Capacity'].values[0]\n",
    "        icu_staffed_beds = fl_icu[fl_icu['ProviderName'] == p]['Total AdultICU Capacity'].values[0]\n",
    "        \n",
    "        if total_staffed_beds > 0:\n",
    "            hosp_occupancy = fl_hosp[fl_hosp['ProviderName'] == p]['Bed Census'].values[0]/total_staffed_beds\n",
    "#         elif total_staffed_beds == 0: hosp_occupancy = 0\n",
    "        else: hosp_occupancy = np.nan\n",
    "            \n",
    "        if icu_staffed_beds > 0:\n",
    "            icu_occupancy = fl_icu[fl_icu['ProviderName'] == p]['Adult ICU Census'].values[0]/icu_staffed_beds\n",
    "#         elif icu_staffed_beds == 0: icu_occupancy = 0\n",
    "        else: icu_occupancy = np.nan\n",
    "        \n",
    "        override_dict['Staffed All Beds'] = fl_hosp[fl_hosp['ProviderName'] == p]['Total Staffed Bed Capacity'].values[0]\n",
    "        override_dict['Staffed ICU Beds'] = fl_icu[fl_icu['ProviderName'] == p]['Total AdultICU Capacity'].values[0]\n",
    "        override_dict['All Bed Occupancy Rate'] = hosp_occupancy\n",
    "        override_dict['ICU Bed Occupancy Rate'] = icu_occupancy\n",
    "        override_dict['Name'] = p\n",
    "    \n",
    "        row_dict = {}\n",
    "\n",
    "        for col in list(manual_override_cols):\n",
    "#             print(col)\n",
    "            # update data for col fields from FL\n",
    "            if col in list(override_dict.keys()):\n",
    "                row_dict[col] = override_dict[col]\n",
    "            # add the other col fields unchanged\n",
    "            elif len(found_ccm_record[col].values)>0:\n",
    "                row_dict[col] = found_ccm_record[col].values[0]\n",
    "            else:\n",
    "                row_dict[col] = np.nan\n",
    "        l.append(row_dict)\n",
    "    else: not_added.append((p,ccm_id))"
   ]
  },
  {
   "cell_type": "code",
   "execution_count": null,
   "metadata": {},
   "outputs": [],
   "source": [
    " not_added"
   ]
  },
  {
   "cell_type": "code",
   "execution_count": null,
   "metadata": {},
   "outputs": [],
   "source": [
    "new_overrides_df = pd.DataFrame(l)"
   ]
  },
  {
   "cell_type": "code",
   "execution_count": null,
   "metadata": {},
   "outputs": [],
   "source": [
    "new_overrides_df.head()"
   ]
  },
  {
   "cell_type": "code",
   "execution_count": null,
   "metadata": {},
   "outputs": [],
   "source": [
    "manual_override_data = pd.concat([ccm_fl, manual_override_data, new_overrides_df]).drop_duplicates('CCM_ID' , keep='last')"
   ]
  },
  {
   "cell_type": "code",
   "execution_count": null,
   "metadata": {},
   "outputs": [],
   "source": [
    "manual_override_data.iloc[44:80]"
   ]
  },
  {
   "cell_type": "code",
   "execution_count": null,
   "metadata": {},
   "outputs": [],
   "source": [
    "manual_override_data['DH-OBJECTID'] = manual_override_data['DH-OBJECTID'].combine_first(manual_override_data['DH-ID'])\n",
    "manual_override_data['HCRIS-Provider Number'] = manual_override_data['HCRIS-Provider Number'].combine_first(manual_override_data['HCRIS-ID'])"
   ]
  },
  {
   "cell_type": "code",
   "execution_count": null,
   "metadata": {},
   "outputs": [],
   "source": [
    "manual_override_data.drop(['DH-ID', 'HCRIS-ID'], inplace=True, axis=1)"
   ]
  },
  {
   "cell_type": "code",
   "execution_count": null,
   "metadata": {},
   "outputs": [],
   "source": [
    "# Ensure coordinates are rounded\n",
    "manual_override_data['Latitude'] = manual_override_data['Latitude'].round(5)\n",
    "manual_override_data['Longitude'] = manual_override_data['Longitude'].round(5)"
   ]
  },
  {
   "cell_type": "code",
   "execution_count": null,
   "metadata": {},
   "outputs": [],
   "source": [
    "manual_override_data.to_csv(external_data_path('covidcaremap-ushcsc-facility-manual-override.csv'), index=False)"
   ]
  },
  {
   "cell_type": "code",
   "execution_count": null,
   "metadata": {},
   "outputs": [],
   "source": []
  }
 ],
 "metadata": {
  "kernelspec": {
   "display_name": "Python 3",
   "language": "python",
   "name": "python3"
  },
  "language_info": {
   "codemirror_mode": {
    "name": "ipython",
    "version": 3
   },
   "file_extension": ".py",
   "mimetype": "text/x-python",
   "name": "python",
   "nbconvert_exporter": "python",
   "pygments_lexer": "ipython3",
   "version": "3.8.2"
  }
 },
 "nbformat": 4,
 "nbformat_minor": 4
}
