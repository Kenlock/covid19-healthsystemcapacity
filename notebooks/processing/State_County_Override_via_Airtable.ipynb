{
 "cells": [
  {
   "cell_type": "code",
   "execution_count": null,
   "metadata": {},
   "outputs": [],
   "source": [
    "import os\n",
    "import requests\n",
    "import pprint\n",
    "import pandas as pd\n",
    "import geopandas as gpd\n",
    "import numpy as np\n",
    "\n",
    "from covidcaremap.constants import *\n",
    "from covidcaremap.data import (read_us_states_gdf,\n",
    "                               read_us_counties_gdf,\n",
    "                               external_data_path,\n",
    "                               published_data_path)"
   ]
  },
  {
   "cell_type": "code",
   "execution_count": null,
   "metadata": {},
   "outputs": [],
   "source": [
    "AIRTABLE_KEY = os.environ.get('AIRTABLE_KEY')\n",
    "if AIRTABLE_KEY is None:\n",
    "    raise Exception('AIRTTABLE_KEY environment variable must be set to run this notebook.')"
   ]
  },
  {
   "cell_type": "code",
   "execution_count": null,
   "metadata": {},
   "outputs": [],
   "source": [
    "# thanks https://community.airtable.com/t/how-to-get-more-than-100-rows-using-airtable-api-in-python-using-offest/30536/3\n",
    "offset = '0'\n",
    "results = []\n",
    "\n",
    "while True:\n",
    "    url = 'https://api.airtable.com/v0/appiZGFluszFy8q2r/County%20Overrides'\n",
    "    querystring = {\n",
    "        'view': 'Validated',\n",
    "        'maxRecords':10000,\n",
    "        'pageSize':100,\n",
    "        'api_key': {AIRTABLE_KEY},\n",
    "        'offset': offset }\n",
    "    try:\n",
    "        resp = requests.get(url, params=querystring)        \n",
    "        r = list(resp.json()['records'])\n",
    "        results.append(r)\n",
    "        print(r[0]['id'],len(r))\n",
    "        \n",
    "        try: offset = resp.json()['offset']            \n",
    "        except Exception as ex:\n",
    "#             print(ex)\n",
    "            break\n",
    "    \n",
    "    except Exception as e:\n",
    "        print(e)\n",
    "        break\n",
    "\n",
    "records = [item for sublist in results for item in sublist]\n",
    "print(len(records))"
   ]
  },
  {
   "cell_type": "code",
   "execution_count": null,
   "metadata": {},
   "outputs": [],
   "source": [
    "def calc_icu_missing(fields_dict):\n",
    "    fields_dict_keys = list(fields_dict.keys())\n",
    "    \n",
    "    cols = ['Staffed ICU Beds',\n",
    "            'ICU Beds Currently Available',\n",
    "            'ICU Beds Currently Occupied',\n",
    "            ]\n",
    "    \n",
    "    # if 2 of the 3 above cols present, calc the missing col, otherwise leave empty cols as nans\n",
    "    if len(set(fields_dict_keys) & set(cols)) >= 2:\n",
    "   \n",
    "        if 'ICU Beds Currently Available' in fields_dict_keys and 'ICU Beds Currently Occupied' in fields_dict_keys:\n",
    "            fields_dict['Staffed ICU Beds'] = fields_dict['ICU Beds Currently Available'] + fields_dict['ICU Beds Currently Occupied']        \n",
    "        elif 'ICU Beds Currently Occupied' in fields_dict_keys:\n",
    "            fields_dict['ICU Beds Currently Available'] = fields_dict['Staffed ICU Beds'] - fields_dict['ICU Beds Currently Occupied']\n",
    "        else:\n",
    "            fields_dict['ICU Beds Currently Occupied'] = fields_dict['Staffed ICU Beds'] - fields_dict['ICU Beds Currently Available']\n",
    "\n",
    "        fields_dict['ICU Bed Occupancy Rate'] = fields_dict['ICU Beds Currently Occupied'] / fields_dict['Staffed ICU Beds']\n",
    "\n",
    "    else:\n",
    "        for col in cols:\n",
    "            if col not in fields_dict_keys: \n",
    "                print(f'not enough fields entered to calculate, leaving {col} as nan')\n",
    "                fields_dict[col] = np.nan\n",
    "        \n",
    "    return fields_dict"
   ]
  },
  {
   "cell_type": "code",
   "execution_count": null,
   "metadata": {},
   "outputs": [],
   "source": [
    "state_records = []\n",
    "county_records = []\n",
    "\n",
    "for rec in records:\n",
    "    if 'County Name' in rec['fields'].keys(): county_records.append(rec)\n",
    "    else: state_records.append(rec)"
   ]
  },
  {
   "cell_type": "code",
   "execution_count": null,
   "metadata": {},
   "outputs": [],
   "source": [
    "county_records"
   ]
  },
  {
   "cell_type": "code",
   "execution_count": null,
   "metadata": {},
   "outputs": [],
   "source": [
    "state_records"
   ]
  },
  {
   "cell_type": "code",
   "execution_count": null,
   "metadata": {},
   "outputs": [],
   "source": [
    "state_override_list = []\n",
    "cols = ['State Name','ICU Bed Occupancy Rate','Staffed ICU Beds','Source Date','Manual Override New Data Source']\n",
    "    \n",
    "for rec in state_records:\n",
    "    try: \n",
    "        icu_complete_rec = calc_icu_missing(rec['fields'])\n",
    "        state_override_list.append({k: v for k, v in icu_complete_rec.items() if k in cols})\n",
    "    except AssertionError: print(f'not enough ICU fields completed for record {rec[\"id\"]}')\n",
    "    \n",
    "\n",
    "state_df = pd.DataFrame.from_dict(state_override_list)\n",
    "state_df['Source Date'] = pd.to_datetime(state_df['Source Date'])"
   ]
  },
  {
   "cell_type": "code",
   "execution_count": null,
   "metadata": {},
   "outputs": [],
   "source": [
    "county_override_list = []\n",
    "cols = ['State Name','County Name','ICU Bed Occupancy Rate','Staffed ICU Beds','Source Date','Manual Override New Data Source']\n",
    "    \n",
    "for rec in county_records:\n",
    "#     print(rec['fields']['County Name'])\n",
    "    try: \n",
    "        icu_complete_rec = calc_icu_missing(rec['fields'])\n",
    "        county_override_list.append({k: v for k, v in icu_complete_rec.items() if k in cols})\n",
    "    except AssertionError: print(f'not enough ICU fields completed for record {rec[\"id\"]}')\n",
    "    \n",
    "\n",
    "county_df = pd.DataFrame.from_dict(county_override_list)\n",
    "county_df['Source Date'] = pd.to_datetime(county_df['Source Date'])"
   ]
  },
  {
   "cell_type": "code",
   "execution_count": null,
   "metadata": {},
   "outputs": [],
   "source": [
    "state_df['State'] = state_df['State Name'].apply(lambda x: state_name_to_abbreviation[x])\n",
    "county_df['State'] = county_df['State Name'].apply(lambda x: state_name_to_abbreviation[x])"
   ]
  },
  {
   "cell_type": "code",
   "execution_count": null,
   "metadata": {
    "scrolled": true
   },
   "outputs": [],
   "source": [
    "state_df_dedup = state_df.sort_values(['Source Date'],ascending=False).drop_duplicates('State')\n",
    "county_df_dedup = county_df.sort_values(['Source Date'],ascending=False).drop_duplicates(['State', 'County Name'])"
   ]
  },
  {
   "cell_type": "code",
   "execution_count": null,
   "metadata": {},
   "outputs": [],
   "source": [
    "state_df"
   ]
  },
  {
   "cell_type": "code",
   "execution_count": null,
   "metadata": {},
   "outputs": [],
   "source": [
    "state_df_dedup"
   ]
  },
  {
   "cell_type": "code",
   "execution_count": null,
   "metadata": {},
   "outputs": [],
   "source": [
    "county_df"
   ]
  },
  {
   "cell_type": "code",
   "execution_count": null,
   "metadata": {},
   "outputs": [],
   "source": [
    "county_df_dedup"
   ]
  },
  {
   "cell_type": "code",
   "execution_count": null,
   "metadata": {},
   "outputs": [],
   "source": [
    "state_data = pd.read_csv(\n",
    "    published_data_path('us_healthcare_capacity-state-CovidCareMap.csv'),\n",
    "    dtype={'State': str }\n",
    ")\n",
    "\n",
    "county_data = pd.read_csv(\n",
    "    published_data_path('us_healthcare_capacity-county-CovidCareMap.csv'),\n",
    "    dtype={'State': str , 'fips_code': str}\n",
    ")"
   ]
  },
  {
   "cell_type": "code",
   "execution_count": null,
   "metadata": {
    "scrolled": true
   },
   "outputs": [],
   "source": [
    "county_data.dtypes"
   ]
  },
  {
   "cell_type": "code",
   "execution_count": null,
   "metadata": {},
   "outputs": [],
   "source": [
    "state_df_dedup = pd.merge(state_df_dedup, state_data, on='State', how='left', suffixes=('','_right'))\n"
   ]
  },
  {
   "cell_type": "code",
   "execution_count": null,
   "metadata": {},
   "outputs": [],
   "source": [
    "state_df_dedup.drop(axis=1, \n",
    "                    columns=[col for col in state_df_dedup.columns if '_right' in col]\n",
    "                            +['ICU Bed Source','ICU Bed Source Last Updated'], \n",
    "                    inplace=True)"
   ]
  },
  {
   "cell_type": "code",
   "execution_count": null,
   "metadata": {},
   "outputs": [],
   "source": [
    "state_df_dedup"
   ]
  },
  {
   "cell_type": "code",
   "execution_count": null,
   "metadata": {},
   "outputs": [],
   "source": [
    "county_df_dedup"
   ]
  },
  {
   "cell_type": "code",
   "execution_count": null,
   "metadata": {},
   "outputs": [],
   "source": [
    "county_df_dedup = pd.merge(county_df_dedup, county_data, on=['State','County Name'], how='left', suffixes=('','_right'))"
   ]
  },
  {
   "cell_type": "code",
   "execution_count": null,
   "metadata": {},
   "outputs": [],
   "source": [
    "county_df_dedup.drop(axis=1, \n",
    "                     columns=[col for col in county_df_dedup.columns if '_right' in col]\n",
    "                     +['ICU Bed Source','ICU Bed Source Last Updated'], \n",
    "                     inplace=True)"
   ]
  },
  {
   "cell_type": "code",
   "execution_count": null,
   "metadata": {},
   "outputs": [],
   "source": [
    "county_df_dedup"
   ]
  },
  {
   "cell_type": "code",
   "execution_count": null,
   "metadata": {},
   "outputs": [],
   "source": [
    "county_df_dedup['Manual Override Reason'] = 'Airtable update flow'\n",
    "state_df_dedup['Manual Override Reason'] = 'Airtable update flow'"
   ]
  },
  {
   "cell_type": "code",
   "execution_count": null,
   "metadata": {},
   "outputs": [],
   "source": [
    "state_df_dedup['Staffed ICU Beds [Per 1000 People]'] = round(state_df_dedup['Staffed ICU Beds'] / (state_df_dedup['Population'] / PER_CAPITA_BASE),3)\n",
    "state_df_dedup['Staffed ICU Beds [Per 1000 Adults (20+)]'] = round(state_df_dedup['Staffed ICU Beds'] / (state_df_dedup['Population (20+)'] / PER_CAPITA_BASE),3)\n",
    "state_df_dedup['Staffed ICU Beds [Per 1000 Elderly (65+)]'] = round(state_df_dedup['Staffed ICU Beds'] / (state_df_dedup['Population (65+)'] / PER_CAPITA_BASE),3)"
   ]
  },
  {
   "cell_type": "code",
   "execution_count": null,
   "metadata": {},
   "outputs": [],
   "source": [
    "county_df_dedup['Staffed ICU Beds [Per 1000 People]'] = round(county_df_dedup['Staffed ICU Beds'] / (county_df_dedup['Population'] / PER_CAPITA_BASE),3)\n",
    "county_df_dedup['Staffed ICU Beds [Per 1000 Adults (20+)]'] = round(county_df_dedup['Staffed ICU Beds'] / (county_df_dedup['Population (20+)'] / PER_CAPITA_BASE),3)\n",
    "county_df_dedup['Staffed ICU Beds [Per 1000 Elderly (65+)]'] = round(county_df_dedup['Staffed ICU Beds'] / (county_df_dedup['Population (65+)'] / PER_CAPITA_BASE),3)"
   ]
  },
  {
   "cell_type": "code",
   "execution_count": null,
   "metadata": {},
   "outputs": [],
   "source": [
    "state_df_dedup.T"
   ]
  },
  {
   "cell_type": "code",
   "execution_count": null,
   "metadata": {},
   "outputs": [],
   "source": [
    "county_df_dedup.T"
   ]
  },
  {
   "cell_type": "code",
   "execution_count": null,
   "metadata": {},
   "outputs": [],
   "source": [
    "state_df_dedup.to_csv(external_data_path('covidcaremap-ushcsc-state-manual-override.csv'),index=False)\n",
    "county_df_dedup.to_csv(external_data_path('covidcaremap-ushcsc-county-manual-override.csv'),index=False)"
   ]
  },
  {
   "cell_type": "code",
   "execution_count": null,
   "metadata": {},
   "outputs": [],
   "source": []
  }
 ],
 "metadata": {
  "kernelspec": {
   "display_name": "Python 3",
   "language": "python",
   "name": "python3"
  },
  "language_info": {
   "codemirror_mode": {
    "name": "ipython",
    "version": 3
   },
   "file_extension": ".py",
   "mimetype": "text/x-python",
   "name": "python",
   "nbconvert_exporter": "python",
   "pygments_lexer": "ipython3",
   "version": "3.8.2"
  }
 },
 "nbformat": 4,
 "nbformat_minor": 4
}
